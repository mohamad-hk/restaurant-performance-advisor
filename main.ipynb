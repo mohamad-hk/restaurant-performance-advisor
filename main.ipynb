{
  "nbformat": 4,
  "nbformat_minor": 0,
  "metadata": {
    "colab": {
      "provenance": [],
      "gpuType": "T4"
    },
    "kernelspec": {
      "name": "python3",
      "display_name": "Python 3"
    },
    "language_info": {
      "name": "python"
    },
    "accelerator": "GPU"
  },
  "cells": [
    {
      "cell_type": "code",
      "execution_count": null,
      "metadata": {
        "id": "Dt1qhEnTmg42"
      },
      "outputs": [],
      "source": [
        "!mkdir ~/.kaggle\n",
        "!cp kaggle.json ~/.kaggle/\n",
        "!chmod 600 ~/.kaggle/kaggle.json"
      ]
    },
    {
      "cell_type": "code",
      "source": [
        "!kaggle datasets download -d moeinkpr/snappfood-comments"
      ],
      "metadata": {
        "colab": {
          "base_uri": "https://localhost:8080/"
        },
        "id": "YI8oxd92m3Vp",
        "outputId": "e262f459-7ce4-4801-c9c2-19292b675364"
      },
      "execution_count": null,
      "outputs": [
        {
          "output_type": "stream",
          "name": "stdout",
          "text": [
            "Dataset URL: https://www.kaggle.com/datasets/moeinkpr/snappfood-comments\n",
            "License(s): MIT\n",
            "Downloading snappfood-comments.zip to /content\n",
            "  0% 0.00/98.1M [00:00<?, ?B/s]\n",
            "100% 98.1M/98.1M [00:00<00:00, 1.71GB/s]\n"
          ]
        }
      ]
    },
    {
      "cell_type": "code",
      "source": [
        "!unzip snappfood-comments.zip"
      ],
      "metadata": {
        "colab": {
          "base_uri": "https://localhost:8080/"
        },
        "id": "xB4KsILSm8Jq",
        "outputId": "e53a106b-3102-4de6-d18d-b262a7af65d2"
      },
      "execution_count": null,
      "outputs": [
        {
          "output_type": "stream",
          "name": "stdout",
          "text": [
            "Archive:  snappfood-comments.zip\n",
            "  inflating: comments.csv            \n",
            "  inflating: vendors.csv             \n"
          ]
        }
      ]
    },
    {
      "cell_type": "code",
      "source": [
        "!git clone https://github.com/rapidsai/rapidsai-csp-utils.git\n",
        "!python rapidsai-csp-utils/colab/pip-install.py"
      ],
      "metadata": {
        "colab": {
          "base_uri": "https://localhost:8080/"
        },
        "id": "ctZ1dB4enGVb",
        "outputId": "06f880c0-0667-4d3d-c409-bd46d2acdb26"
      },
      "execution_count": null,
      "outputs": [
        {
          "output_type": "stream",
          "name": "stdout",
          "text": [
            "Cloning into 'rapidsai-csp-utils'...\n",
            "remote: Enumerating objects: 603, done.\u001b[K\n",
            "remote: Counting objects: 100% (169/169), done.\u001b[K\n",
            "remote: Compressing objects: 100% (87/87), done.\u001b[K\n",
            "remote: Total 603 (delta 131), reused 82 (delta 82), pack-reused 434 (from 3)\u001b[K\n",
            "Receiving objects: 100% (603/603), 199.38 KiB | 1.59 MiB/s, done.\n",
            "Resolving deltas: 100% (305/305), done.\n",
            "Installing RAPIDS remaining 25.08 libraries\n",
            "Using Python 3.12.11 environment at: /usr\n",
            "Resolved 180 packages in 1.60s\n",
            "Prepared 41 packages in 1m 01s\n",
            "Uninstalled 31 packages in 950ms\n",
            "Installed 41 packages in 453ms\n",
            " - bokeh==3.7.3\n",
            " + bokeh==3.6.3\n",
            " + cucim-cu12==25.8.0\n",
            " + cuda-bindings==12.9.2\n",
            " + cuda-pathfinder==1.3.0\n",
            " - cuda-python==12.6.2.post1\n",
            " + cuda-python==12.9.2\n",
            " - cudf-cu12==25.6.0 (from https://pypi.nvidia.com/cudf-cu12/cudf_cu12-25.6.0-cp312-cp312-manylinux_2_24_x86_64.manylinux_2_28_x86_64.whl)\n",
            " + cudf-cu12==25.8.0\n",
            " + cugraph-cu12==25.8.0\n",
            " - cuml-cu12==25.6.0\n",
            " + cuml-cu12==25.8.0\n",
            " - cuvs-cu12==25.6.1\n",
            " + cuvs-cu12==25.8.0\n",
            " + cuxfilter-cu12==25.8.0\n",
            " - dask==2025.5.0\n",
            " + dask==2025.7.0\n",
            " - dask-cuda==25.6.0\n",
            " + dask-cuda==25.8.0\n",
            " - dask-cudf-cu12==25.6.0\n",
            " + dask-cudf-cu12==25.8.0\n",
            " + datashader==0.18.2\n",
            " - distributed==2025.5.0\n",
            " + distributed==2025.7.0\n",
            " - distributed-ucxx-cu12==0.44.0\n",
            " + distributed-ucxx-cu12==0.45.1\n",
            " - holoviews==1.21.0\n",
            " + holoviews==1.20.2\n",
            " + jupyter-server-proxy==4.4.0\n",
            " - libcudf-cu12==25.6.0 (from https://pypi.nvidia.com/libcudf-cu12/libcudf_cu12-25.6.0-py3-none-manylinux_2_28_x86_64.whl)\n",
            " + libcudf-cu12==25.8.0\n",
            " - libcugraph-cu12==25.6.0\n",
            " + libcugraph-cu12==25.8.0\n",
            " - libcuml-cu12==25.6.0\n",
            " + libcuml-cu12==25.8.0\n",
            " - libcuvs-cu12==25.6.1\n",
            " + libcuvs-cu12==25.8.0\n",
            " - libkvikio-cu12==25.6.0\n",
            " + libkvikio-cu12==25.8.0\n",
            " - libraft-cu12==25.6.0\n",
            " + libraft-cu12==25.8.0\n",
            " - librmm-cu12==25.6.0\n",
            " + librmm-cu12==25.8.0\n",
            " - libucxx-cu12==0.44.0\n",
            " + libucxx-cu12==0.45.1\n",
            " - numba-cuda==0.11.0\n",
            " + numba-cuda==0.14.1\n",
            " + nvidia-cuda-cccl-cu12==12.9.27\n",
            " - nx-cugraph-cu12==25.6.0 (from https://pypi.nvidia.com/nx-cugraph-cu12/nx_cugraph_cu12-25.6.0-py3-none-any.whl)\n",
            " + nx-cugraph-cu12==25.8.0\n",
            " - panel==1.8.1\n",
            " + panel==1.7.5\n",
            " + pyct==0.6.0\n",
            " - pylibcudf-cu12==25.6.0 (from https://pypi.nvidia.com/pylibcudf-cu12/pylibcudf_cu12-25.6.0-cp312-cp312-manylinux_2_24_x86_64.manylinux_2_28_x86_64.whl)\n",
            " + pylibcudf-cu12==25.8.0\n",
            " - pylibcugraph-cu12==25.6.0\n",
            " + pylibcugraph-cu12==25.8.0\n",
            " - pylibraft-cu12==25.6.0\n",
            " + pylibraft-cu12==25.8.0\n",
            " - raft-dask-cu12==25.6.0\n",
            " + raft-dask-cu12==25.8.0\n",
            " - rapids-dask-dependency==25.6.0\n",
            " + rapids-dask-dependency==25.8.0\n",
            " - rmm-cu12==25.6.0\n",
            " + rmm-cu12==25.8.0\n",
            " - shapely==2.1.2\n",
            " + shapely==2.0.7\n",
            " + simpervisor==1.0.0\n",
            " - ucx-py-cu12==0.44.0\n",
            " + ucx-py-cu12==0.45.0\n",
            " - ucxx-cu12==0.44.0\n",
            " + ucxx-cu12==0.45.1\n",
            "\n",
            "        ***********************************************************************\n",
            "        The pip install of RAPIDS is complete.\n",
            "\n",
            "        Please do not run any further installation from the conda based installation methods, as they may cause issues!\n",
            "\n",
            "        Please ensure that you're pulling from the git repo to remain updated with the latest working install scripts.\n",
            "\n",
            "        Troubleshooting:\n",
            "            - If there is an installation failure, please check back on RAPIDSAI owned templates/notebooks to see how to update your personal files.\n",
            "            - If an installation failure persists when using the latest script, please make an issue on https://github.com/rapidsai-community/rapidsai-csp-utils\n",
            "        ***********************************************************************\n",
            "        \n"
          ]
        }
      ]
    },
    {
      "cell_type": "code",
      "source": [
        "!pip uninstall -y hazm\n",
        "!pip install numpy==1.26.4\n",
        "!pip install hazm --no-deps\n",
        "!pip install python-crfsuite fasttext-wheel gensim nltk flashtext"
      ],
      "metadata": {
        "id": "rmofWH5sdE2Q",
        "colab": {
          "base_uri": "https://localhost:8080/",
          "height": 1000
        },
        "outputId": "08364bc9-b7c3-49ef-d12e-f2bf99e32a6a"
      },
      "execution_count": null,
      "outputs": [
        {
          "output_type": "stream",
          "name": "stdout",
          "text": [
            "Found existing installation: hazm 0.10.0\n",
            "Uninstalling hazm-0.10.0:\n",
            "  Successfully uninstalled hazm-0.10.0\n",
            "Requirement already satisfied: numpy==1.26.4 in /usr/local/lib/python3.12/dist-packages (1.26.4)\n",
            "Collecting hazm\n",
            "  Using cached hazm-0.10.0-py3-none-any.whl.metadata (11 kB)\n",
            "Using cached hazm-0.10.0-py3-none-any.whl (892 kB)\n",
            "Installing collected packages: hazm\n",
            "Successfully installed hazm-0.10.0\n",
            "Collecting python-crfsuite\n",
            "  Downloading python_crfsuite-0.9.11-cp312-cp312-manylinux_2_17_x86_64.manylinux2014_x86_64.whl.metadata (4.3 kB)\n",
            "Collecting fasttext-wheel\n",
            "  Downloading fasttext_wheel-0.9.2-cp312-cp312-manylinux_2_17_x86_64.manylinux2014_x86_64.whl.metadata (16 kB)\n",
            "Collecting gensim\n",
            "  Downloading gensim-4.3.3-cp312-cp312-manylinux_2_17_x86_64.manylinux2014_x86_64.whl.metadata (8.1 kB)\n",
            "Requirement already satisfied: nltk in /usr/local/lib/python3.12/dist-packages (3.9.1)\n",
            "Collecting flashtext\n",
            "  Downloading flashtext-2.7.tar.gz (14 kB)\n",
            "  Preparing metadata (setup.py) ... \u001b[?25l\u001b[?25hdone\n",
            "Collecting pybind11>=2.2 (from fasttext-wheel)\n",
            "  Downloading pybind11-3.0.1-py3-none-any.whl.metadata (10.0 kB)\n",
            "Requirement already satisfied: setuptools>=0.7.0 in /usr/local/lib/python3.12/dist-packages (from fasttext-wheel) (75.2.0)\n",
            "Requirement already satisfied: numpy in /usr/local/lib/python3.12/dist-packages (from fasttext-wheel) (1.26.4)\n",
            "Collecting scipy<1.14.0,>=1.7.0 (from gensim)\n",
            "  Downloading scipy-1.13.1-cp312-cp312-manylinux_2_17_x86_64.manylinux2014_x86_64.whl.metadata (60 kB)\n",
            "\u001b[2K     \u001b[90m━━━━━━━━━━━━━━━━━━━━━━━━━━━━━━━━━━━━━━━━\u001b[0m \u001b[32m60.6/60.6 kB\u001b[0m \u001b[31m2.8 MB/s\u001b[0m eta \u001b[36m0:00:00\u001b[0m\n",
            "\u001b[?25hRequirement already satisfied: smart-open>=1.8.1 in /usr/local/lib/python3.12/dist-packages (from gensim) (7.3.1)\n",
            "Requirement already satisfied: click in /usr/local/lib/python3.12/dist-packages (from nltk) (8.3.0)\n",
            "Requirement already satisfied: joblib in /usr/local/lib/python3.12/dist-packages (from nltk) (1.5.2)\n",
            "Requirement already satisfied: regex>=2021.8.3 in /usr/local/lib/python3.12/dist-packages (from nltk) (2024.11.6)\n",
            "Requirement already satisfied: tqdm in /usr/local/lib/python3.12/dist-packages (from nltk) (4.67.1)\n",
            "Requirement already satisfied: wrapt in /usr/local/lib/python3.12/dist-packages (from smart-open>=1.8.1->gensim) (1.17.3)\n",
            "Downloading python_crfsuite-0.9.11-cp312-cp312-manylinux_2_17_x86_64.manylinux2014_x86_64.whl (1.3 MB)\n",
            "\u001b[2K   \u001b[90m━━━━━━━━━━━━━━━━━━━━━━━━━━━━━━━━━━━━━━━━\u001b[0m \u001b[32m1.3/1.3 MB\u001b[0m \u001b[31m30.7 MB/s\u001b[0m eta \u001b[36m0:00:00\u001b[0m\n",
            "\u001b[?25hDownloading fasttext_wheel-0.9.2-cp312-cp312-manylinux_2_17_x86_64.manylinux2014_x86_64.whl (4.6 MB)\n",
            "\u001b[2K   \u001b[90m━━━━━━━━━━━━━━━━━━━━━━━━━━━━━━━━━━━━━━━━\u001b[0m \u001b[32m4.6/4.6 MB\u001b[0m \u001b[31m37.0 MB/s\u001b[0m eta \u001b[36m0:00:00\u001b[0m\n",
            "\u001b[?25hDownloading gensim-4.3.3-cp312-cp312-manylinux_2_17_x86_64.manylinux2014_x86_64.whl (26.6 MB)\n",
            "\u001b[2K   \u001b[90m━━━━━━━━━━━━━━━━━━━━━━━━━━━━━━━━━━━━━━━━\u001b[0m \u001b[32m26.6/26.6 MB\u001b[0m \u001b[31m58.8 MB/s\u001b[0m eta \u001b[36m0:00:00\u001b[0m\n",
            "\u001b[?25hDownloading pybind11-3.0.1-py3-none-any.whl (293 kB)\n",
            "\u001b[2K   \u001b[90m━━━━━━━━━━━━━━━━━━━━━━━━━━━━━━━━━━━━━━━━\u001b[0m \u001b[32m293.6/293.6 kB\u001b[0m \u001b[31m1.4 MB/s\u001b[0m eta \u001b[36m0:00:00\u001b[0m\n",
            "\u001b[?25hDownloading scipy-1.13.1-cp312-cp312-manylinux_2_17_x86_64.manylinux2014_x86_64.whl (38.2 MB)\n",
            "\u001b[2K   \u001b[90m━━━━━━━━━━━━━━━━━━━━━━━━━━━━━━━━━━━━━━━━\u001b[0m \u001b[32m38.2/38.2 MB\u001b[0m \u001b[31m21.2 MB/s\u001b[0m eta \u001b[36m0:00:00\u001b[0m\n",
            "\u001b[?25hBuilding wheels for collected packages: flashtext\n",
            "  Building wheel for flashtext (setup.py) ... \u001b[?25l\u001b[?25hdone\n",
            "  Created wheel for flashtext: filename=flashtext-2.7-py2.py3-none-any.whl size=9300 sha256=b2058f8d814bf4180de7b23d58732f91ff317ffdb0a420d708a503bc7cc0f259\n",
            "  Stored in directory: /root/.cache/pip/wheels/8c/24/da/4d994d7a27cfc73a4e513a669fbeec4a71f871fe245a81977f\n",
            "Successfully built flashtext\n",
            "Installing collected packages: flashtext, scipy, python-crfsuite, pybind11, gensim, fasttext-wheel\n",
            "  Attempting uninstall: scipy\n",
            "    Found existing installation: scipy 1.16.2\n",
            "    Uninstalling scipy-1.16.2:\n",
            "      Successfully uninstalled scipy-1.16.2\n",
            "\u001b[31mERROR: pip's dependency resolver does not currently take into account all the packages that are installed. This behaviour is the source of the following dependency conflicts.\n",
            "hazm 0.10.0 requires numpy==1.24.3, but you have numpy 1.26.4 which is incompatible.\n",
            "tsfresh 0.21.1 requires scipy>=1.14.0; python_version >= \"3.10\", but you have scipy 1.13.1 which is incompatible.\u001b[0m\u001b[31m\n",
            "\u001b[0mSuccessfully installed fasttext-wheel-0.9.2 flashtext-2.7 gensim-4.3.3 pybind11-3.0.1 python-crfsuite-0.9.11 scipy-1.13.1\n"
          ]
        },
        {
          "output_type": "display_data",
          "data": {
            "application/vnd.colab-display-data+json": {
              "pip_warning": {
                "packages": [
                  "scipy"
                ]
              },
              "id": "c5182a10f3884cc4ab1e6de9d1d7f1b1"
            }
          },
          "metadata": {}
        }
      ]
    },
    {
      "cell_type": "code",
      "source": [
        "import cudf\n",
        "from hazm import Normalizer, word_tokenize, Stemmer, Lemmatizer, stopwords_list\n",
        "import re\n",
        "from sklearn.preprocessing import LabelEncoder\n",
        "import numpy as np\n",
        "import pandas as pd\n"
      ],
      "metadata": {
        "id": "PWFbYFY0EYZ5"
      },
      "execution_count": null,
      "outputs": []
    },
    {
      "cell_type": "code",
      "source": [
        "comments_table=cudf.read_csv(\"comments.csv\")\n",
        "vendors_table=cudf.read_csv(\"vendors.csv\")\n",
        "\n",
        "comments_table_copy=comments_table.drop(columns=[\"commentId\",\"date\",\"sender\",\"rating\",\"customerId\",\"feeling\",\"status\",\"foods\",\"replies\"])\n",
        "comments_table_copy\n",
        "vendors_table_copy=vendors_table.drop(columns=[\"id\",\"highlight\",\"description\",\"address\",\"rating\",\"title\"])\n",
        "vendors_table_copy"
      ],
      "metadata": {
        "colab": {
          "base_uri": "https://localhost:8080/",
          "height": 423
        },
        "id": "q9ZJ5qIHEc0S",
        "outputId": "40d6c417-eeaf-40d3-ceb9-4c63f572cf64"
      },
      "execution_count": null,
      "outputs": [
        {
          "output_type": "execute_result",
          "data": {
            "text/plain": [
              "        code commentCount  vendorType\n",
              "0     pzlkj3        24112  RESTAURANT\n",
              "1     0lvonp        10988  RESTAURANT\n",
              "2     3drlyx         5815  RESTAURANT\n",
              "3     klw59g           12  RESTAURANT\n",
              "4     32m1rl        13542  RESTAURANT\n",
              "...      ...          ...         ...\n",
              "2250  3x25xw         7391  RESTAURANT\n",
              "2251  0rel4o           46  RESTAURANT\n",
              "2252  0y16yg        22278  RESTAURANT\n",
              "2253  znv94e           66  RESTAURANT\n",
              "2254  kl7vlg          112  RESTAURANT\n",
              "\n",
              "[2255 rows x 3 columns]"
            ],
            "text/html": [
              "<div>\n",
              "<style scoped>\n",
              "    .dataframe tbody tr th:only-of-type {\n",
              "        vertical-align: middle;\n",
              "    }\n",
              "\n",
              "    .dataframe tbody tr th {\n",
              "        vertical-align: top;\n",
              "    }\n",
              "\n",
              "    .dataframe thead th {\n",
              "        text-align: right;\n",
              "    }\n",
              "</style>\n",
              "<table border=\"1\" class=\"dataframe\">\n",
              "  <thead>\n",
              "    <tr style=\"text-align: right;\">\n",
              "      <th></th>\n",
              "      <th>code</th>\n",
              "      <th>commentCount</th>\n",
              "      <th>vendorType</th>\n",
              "    </tr>\n",
              "  </thead>\n",
              "  <tbody>\n",
              "    <tr>\n",
              "      <th>0</th>\n",
              "      <td>pzlkj3</td>\n",
              "      <td>24112</td>\n",
              "      <td>RESTAURANT</td>\n",
              "    </tr>\n",
              "    <tr>\n",
              "      <th>1</th>\n",
              "      <td>0lvonp</td>\n",
              "      <td>10988</td>\n",
              "      <td>RESTAURANT</td>\n",
              "    </tr>\n",
              "    <tr>\n",
              "      <th>2</th>\n",
              "      <td>3drlyx</td>\n",
              "      <td>5815</td>\n",
              "      <td>RESTAURANT</td>\n",
              "    </tr>\n",
              "    <tr>\n",
              "      <th>3</th>\n",
              "      <td>klw59g</td>\n",
              "      <td>12</td>\n",
              "      <td>RESTAURANT</td>\n",
              "    </tr>\n",
              "    <tr>\n",
              "      <th>4</th>\n",
              "      <td>32m1rl</td>\n",
              "      <td>13542</td>\n",
              "      <td>RESTAURANT</td>\n",
              "    </tr>\n",
              "    <tr>\n",
              "      <th>...</th>\n",
              "      <td>...</td>\n",
              "      <td>...</td>\n",
              "      <td>...</td>\n",
              "    </tr>\n",
              "    <tr>\n",
              "      <th>2250</th>\n",
              "      <td>3x25xw</td>\n",
              "      <td>7391</td>\n",
              "      <td>RESTAURANT</td>\n",
              "    </tr>\n",
              "    <tr>\n",
              "      <th>2251</th>\n",
              "      <td>0rel4o</td>\n",
              "      <td>46</td>\n",
              "      <td>RESTAURANT</td>\n",
              "    </tr>\n",
              "    <tr>\n",
              "      <th>2252</th>\n",
              "      <td>0y16yg</td>\n",
              "      <td>22278</td>\n",
              "      <td>RESTAURANT</td>\n",
              "    </tr>\n",
              "    <tr>\n",
              "      <th>2253</th>\n",
              "      <td>znv94e</td>\n",
              "      <td>66</td>\n",
              "      <td>RESTAURANT</td>\n",
              "    </tr>\n",
              "    <tr>\n",
              "      <th>2254</th>\n",
              "      <td>kl7vlg</td>\n",
              "      <td>112</td>\n",
              "      <td>RESTAURANT</td>\n",
              "    </tr>\n",
              "  </tbody>\n",
              "</table>\n",
              "<p>2255 rows × 3 columns</p>\n",
              "</div>"
            ]
          },
          "metadata": {},
          "execution_count": 2
        }
      ]
    },
    {
      "cell_type": "code",
      "source": [
        "merged_df = comments_table_copy.merge(vendors_table_copy,on=\"code\",how=\"left\")\n",
        "merged_df = merged_df[merged_df[\"vendorType\"] == \"RESTAURANT\"]\n",
        "\n",
        "merged_df=merged_df.drop(columns=[\"vendorType\"])\n",
        "merged_df[\"deliveryComment\"].fillna(\"\",inplace=True)\n"
      ],
      "metadata": {
        "id": "EdQCCiHPMLN4"
      },
      "execution_count": null,
      "outputs": []
    },
    {
      "cell_type": "code",
      "source": [
        "merged_df['text_raw'] = (merged_df['commentText'].fillna('') + ' ' + merged_df['deliveryComment'].fillna(''))\n",
        "merged_df = merged_df.drop(columns=['commentText', 'deliveryComment'])\n"
      ],
      "metadata": {
        "id": "ubk-3cB5ZKC7"
      },
      "execution_count": null,
      "outputs": []
    },
    {
      "cell_type": "code",
      "source": [
        "merged_df['createdDate'] = cudf.to_datetime(merged_df['createdDate'])\n",
        "merged_df['week'] = merged_df['createdDate'].dt.isocalendar().week\n",
        "merged_df['year'] = merged_df['createdDate'].dt.year"
      ],
      "metadata": {
        "id": "4KmtGk2yc1SM"
      },
      "execution_count": null,
      "outputs": []
    },
    {
      "cell_type": "code",
      "source": [
        "merged_df.info()"
      ],
      "metadata": {
        "colab": {
          "base_uri": "https://localhost:8080/"
        },
        "id": "CdLIOGo2c36D",
        "outputId": "1c5abe4c-b861-472f-c492-427be4bde2d5"
      },
      "execution_count": null,
      "outputs": [
        {
          "output_type": "stream",
          "name": "stdout",
          "text": [
            "<class 'cudf.core.dataframe.DataFrame'>\n",
            "Index: 1078372 entries, 0 to 1290547\n",
            "Data columns (total 8 columns):\n",
            " #   Column          Non-Null Count    Dtype\n",
            "---  ------          --------------    -----\n",
            " 0   createdDate     1078372 non-null  datetime64[ns]\n",
            " 1   rate            1078372 non-null  float64\n",
            " 2   expeditionType  1078084 non-null  object\n",
            " 3   code            1078372 non-null  object\n",
            " 4   commentCount    1078372 non-null  object\n",
            " 5   text_raw        1078372 non-null  object\n",
            " 6   week            1078372 non-null  uint32\n",
            " 7   year            1078372 non-null  int16\n",
            "dtypes: datetime64[ns](1), float64(1), int16(1), object(4), uint32(1)\n",
            "memory usage: 174.1+ MB\n"
          ]
        }
      ]
    },
    {
      "cell_type": "code",
      "source": [
        "le = LabelEncoder()\n",
        "expedition_col = merged_df['expeditionType'].to_pandas()\n",
        "\n",
        "encoded = le.fit_transform(expedition_col.astype(str))\n",
        "\n",
        "merged_df['expeditionType_encoded'] = cudf.Series(encoded)\n",
        "\n",
        "merged_df = merged_df.dropna(subset=['rate'])\n",
        "merged_df['rate'] = merged_df['rate'].astype('uint8')\n",
        "merged_df = merged_df.drop(columns=['expeditionType'])"
      ],
      "metadata": {
        "id": "b8vDqlvDHfhK"
      },
      "execution_count": null,
      "outputs": []
    },
    {
      "cell_type": "code",
      "source": [
        "merged_df.info()"
      ],
      "metadata": {
        "colab": {
          "base_uri": "https://localhost:8080/"
        },
        "id": "LnNqUlqmHsTn",
        "outputId": "c94ca166-4d2e-49bf-cff8-c91521516f31"
      },
      "execution_count": null,
      "outputs": [
        {
          "output_type": "stream",
          "name": "stdout",
          "text": [
            "<class 'cudf.core.dataframe.DataFrame'>\n",
            "Index: 1078372 entries, 0 to 1290547\n",
            "Data columns (total 8 columns):\n",
            " #   Column                  Non-Null Count    Dtype\n",
            "---  ------                  --------------    -----\n",
            " 0   createdDate             1078372 non-null  datetime64[ns]\n",
            " 1   rate                    1078372 non-null  uint8\n",
            " 2   code                    1078372 non-null  object\n",
            " 3   commentCount            1078372 non-null  object\n",
            " 4   text_raw                1078372 non-null  object\n",
            " 5   week                    1078372 non-null  uint32\n",
            " 6   year                    1078372 non-null  int16\n",
            " 7   expeditionType_encoded  895700 non-null   int64\n",
            "dtypes: datetime64[ns](1), int16(1), int64(1), object(3), uint32(1), uint8(1)\n",
            "memory usage: 161.9+ MB\n"
          ]
        }
      ]
    },
    {
      "cell_type": "code",
      "source": [
        "def auto_data_type(df):\n",
        "    for col in df.select_dtypes(include=[np.number]).columns:\n",
        "        min_value = df[col].min()\n",
        "        max_value = df[col].max()\n",
        "\n",
        "        if pd.api.types.is_float_dtype(df[col]):\n",
        "            df[col] = df[col].astype(np.float32)\n",
        "        elif min_value >= 0:\n",
        "            if max_value <= 255:\n",
        "                df[col] = df[col].astype(np.uint8)\n",
        "            elif max_value <= 65535:\n",
        "                df[col] = df[col].astype(np.uint16)\n",
        "            elif max_value <= 4294967295:\n",
        "                df[col] = df[col].astype(np.uint32)\n",
        "            else:\n",
        "                df[col] = df[col].astype(np.uint64)\n",
        "        else:\n",
        "            if -128 <= min_value and max_value <= 127:\n",
        "                df[col] = df[col].astype(np.int8)\n",
        "            elif -32768 <= min_value and max_value <= 32767:\n",
        "                df[col] = df[col].astype(np.int16)\n",
        "            elif -2147483648 <= min_value and max_value <= 2147483647:\n",
        "                df[col] = df[col].astype(np.int32)\n",
        "            else:\n",
        "                df[col] = df[col].astype(np.int64)\n",
        "    return df\n",
        "\n",
        "\n",
        "merged_df=auto_data_type(merged_df)"
      ],
      "metadata": {
        "id": "sHuvk3G2JtPv"
      },
      "execution_count": null,
      "outputs": []
    },
    {
      "cell_type": "code",
      "source": [
        "merged_df.info()"
      ],
      "metadata": {
        "colab": {
          "base_uri": "https://localhost:8080/"
        },
        "id": "yLKfoVXdJCA7",
        "outputId": "809caca6-d907-4295-a15b-2a1f58194e4a"
      },
      "execution_count": null,
      "outputs": [
        {
          "output_type": "stream",
          "name": "stdout",
          "text": [
            "<class 'cudf.core.dataframe.DataFrame'>\n",
            "Index: 1078372 entries, 0 to 1290547\n",
            "Data columns (total 8 columns):\n",
            " #   Column                  Non-Null Count    Dtype\n",
            "---  ------                  --------------    -----\n",
            " 0   createdDate             1078372 non-null  datetime64[ns]\n",
            " 1   rate                    1078372 non-null  uint8\n",
            " 2   code                    1078372 non-null  object\n",
            " 3   commentCount            1078372 non-null  object\n",
            " 4   text_raw                1078372 non-null  object\n",
            " 5   week                    1078372 non-null  uint8\n",
            " 6   year                    1078372 non-null  uint16\n",
            " 7   expeditionType_encoded  895700 non-null   uint8\n",
            "dtypes: datetime64[ns](1), object(3), uint16(1), uint8(3)\n",
            "memory usage: 151.6+ MB\n"
          ]
        }
      ]
    },
    {
      "cell_type": "code",
      "source": [
        "!kaggle datasets download -d alioraji/persian-stop-words\n",
        "!unzip persian-stop-words.zip\n",
        "with open(\"Persian_Stop_Words.txt\", encoding='utf-8') as f:\n",
        "    custom_stopwords = {line.strip() for line in f if line.strip()}"
      ],
      "metadata": {
        "colab": {
          "base_uri": "https://localhost:8080/"
        },
        "id": "1RBv0RPdYOWH",
        "outputId": "655380f4-0a52-46b3-8cd4-287d928d587e"
      },
      "execution_count": null,
      "outputs": [
        {
          "output_type": "stream",
          "name": "stdout",
          "text": [
            "Dataset URL: https://www.kaggle.com/datasets/alioraji/persian-stop-words\n",
            "License(s): other\n",
            "Downloading persian-stop-words.zip to /content\n",
            "  0% 0.00/13.3k [00:00<?, ?B/s]\n",
            "100% 13.3k/13.3k [00:00<00:00, 58.0MB/s]\n",
            "Archive:  persian-stop-words.zip\n",
            "  inflating: Persian_Stop_Words.txt  \n"
          ]
        }
      ]
    },
    {
      "cell_type": "code",
      "source": [
        "normalizer = Normalizer()\n",
        "lemmatizer = Lemmatizer()\n",
        "\n",
        "def preprocess_text(text, stopwords):\n",
        "    text = normalizer.normalize(text)\n",
        "    text = re.sub(r'[^\\u0600-\\u06FF\\s]', ' ', text)\n",
        "    text = re.sub(r'\\d+', '', text)\n",
        "    text = re.sub(r'\\s+', ' ', text).strip()\n",
        "    tokens = word_tokenize(text)\n",
        "    tokens = [t for t in tokens if t not in stopwords and len(t) > 2]\n",
        "    tokens = [lemmatizer.lemmatize(t) for t in tokens]\n",
        "    return ' '.join(tokens)\n",
        "df = merged_df.to_pandas()\n",
        "\n",
        "df['text_clean'] = df['text_raw'].fillna('').apply(lambda x: preprocess_text(x, custom_stopwords))\n"
      ],
      "metadata": {
        "id": "G5LF6BK7LP3-"
      },
      "execution_count": null,
      "outputs": []
    },
    {
      "cell_type": "code",
      "source": [
        "merged_df = cudf.from_pandas(df)\n",
        "merged_df"
      ],
      "metadata": {
        "colab": {
          "base_uri": "https://localhost:8080/",
          "height": 808
        },
        "id": "ePqTfApkZ2Fo",
        "outputId": "fb2b5a5d-324d-447f-983a-8fbcf0f3e5cd"
      },
      "execution_count": null,
      "outputs": [
        {
          "output_type": "execute_result",
          "data": {
            "text/plain": [
              "                createdDate  rate    code commentCount  \\\n",
              "0       2024-10-17 19:13:44    10  095gkq         1051   \n",
              "1       2024-10-14 10:49:25     2  095gkq         1051   \n",
              "2       2024-10-08 11:38:58     2  095gkq         1051   \n",
              "3       2024-10-01 20:03:59     2  095gkq         1051   \n",
              "4       2024-08-04 11:55:19    10  095gkq         1051   \n",
              "...                     ...   ...     ...          ...   \n",
              "1290543 2024-12-09 20:03:55    10  zn8ewj           33   \n",
              "1290544 2024-12-09 15:35:37    10  zn8ewj           33   \n",
              "1290545 2024-10-23 12:56:57    10  zn8ewj           33   \n",
              "1290546 2024-10-20 16:41:07    10  zn8ewj           33   \n",
              "1290547 2024-10-13 14:55:30    10  zn8ewj           33   \n",
              "\n",
              "                                                  text_raw  week  year  \\\n",
              "0            پیک مودب وساندویچ خوش طعم بود سپاس ازبودنتون     42  2024   \n",
              "1        کوچکترین پیاز، خیار، لبو و گنده ترین سیب زمینی...    42  2024   \n",
              "2        هندوانه کاملا خراب بود و دور ریخته شد. بجای دو...    41  2024   \n",
              "3        هندوانه گندیده و دور ریخته شد شلیل ها تمام له ...    40  2024   \n",
              "4                                             همه چی عالی     31  2024   \n",
              "...                                                    ...   ...   ...   \n",
              "1290543  سلام من اولین باره خرید می‌کنم هنوز نمی‌تونم ن...    50  2024   \n",
              "1290544                                 کیفیت خوب و مرغوب     50  2024   \n",
              "1290545                                              عالی     43  2024   \n",
              "1290546                                        بسیار عالی     42  2024   \n",
              "1290547           ممنون از ارسال و توضیحاتتون،موفق باشید.     41  2024   \n",
              "\n",
              "        expeditionType_encoded  \\\n",
              "0                          4.0   \n",
              "1                          4.0   \n",
              "2                          4.0   \n",
              "3                          4.0   \n",
              "4                          4.0   \n",
              "...                        ...   \n",
              "1290543                   <NA>   \n",
              "1290544                   <NA>   \n",
              "1290545                   <NA>   \n",
              "1290546                   <NA>   \n",
              "1290547                   <NA>   \n",
              "\n",
              "                                                text_clean  flag_quality  \\\n",
              "0                     پیک مودب وساندویچ طعم سپاس ازبودنتون             1   \n",
              "1        کوچکترین پیاز خیار لبو گنده سیب زمینی هندوانه ...             0   \n",
              "2            هندوانه خراب ریخت#ریز کیلو اسفناچ فرستاد#فرست             0   \n",
              "3                             هندوانه گندیده ریخت#ریز شلیل             0   \n",
              "4                                                                      0   \n",
              "...                                                    ...           ...   \n",
              "1290543  سلام خرید تون نظری عسل نظرمو عسل پوکید#پوک است...             0   \n",
              "1290544                                        کیفیت مرغوب             1   \n",
              "1290545                                                                0   \n",
              "1290546                                                                0   \n",
              "1290547                        ممنون ارسال توضیحاتتون موفق             0   \n",
              "\n",
              "         flag_delivery  flag_price  flag_packaging  flag_amount  \\\n",
              "0                    1           0               0            0   \n",
              "1                    0           0               0            0   \n",
              "2                    0           0               0            0   \n",
              "3                    0           0               0            0   \n",
              "4                    0           0               0            0   \n",
              "...                ...         ...             ...          ...   \n",
              "1290543              0           0               0            0   \n",
              "1290544              0           0               0            0   \n",
              "1290545              0           0               0            0   \n",
              "1290546              0           0               0            0   \n",
              "1290547              1           0               0            0   \n",
              "\n",
              "         flag_order_error  \n",
              "0                       0  \n",
              "1                       0  \n",
              "2                       0  \n",
              "3                       0  \n",
              "4                       0  \n",
              "...                   ...  \n",
              "1290543                 0  \n",
              "1290544                 0  \n",
              "1290545                 0  \n",
              "1290546                 0  \n",
              "1290547                 0  \n",
              "\n",
              "[1078372 rows x 15 columns]"
            ],
            "text/html": [
              "<div>\n",
              "<style scoped>\n",
              "    .dataframe tbody tr th:only-of-type {\n",
              "        vertical-align: middle;\n",
              "    }\n",
              "\n",
              "    .dataframe tbody tr th {\n",
              "        vertical-align: top;\n",
              "    }\n",
              "\n",
              "    .dataframe thead th {\n",
              "        text-align: right;\n",
              "    }\n",
              "</style>\n",
              "<table border=\"1\" class=\"dataframe\">\n",
              "  <thead>\n",
              "    <tr style=\"text-align: right;\">\n",
              "      <th></th>\n",
              "      <th>createdDate</th>\n",
              "      <th>rate</th>\n",
              "      <th>code</th>\n",
              "      <th>commentCount</th>\n",
              "      <th>text_raw</th>\n",
              "      <th>week</th>\n",
              "      <th>year</th>\n",
              "      <th>expeditionType_encoded</th>\n",
              "      <th>text_clean</th>\n",
              "      <th>flag_quality</th>\n",
              "      <th>flag_delivery</th>\n",
              "      <th>flag_price</th>\n",
              "      <th>flag_packaging</th>\n",
              "      <th>flag_amount</th>\n",
              "      <th>flag_order_error</th>\n",
              "    </tr>\n",
              "  </thead>\n",
              "  <tbody>\n",
              "    <tr>\n",
              "      <th>0</th>\n",
              "      <td>2024-10-17 19:13:44</td>\n",
              "      <td>10</td>\n",
              "      <td>095gkq</td>\n",
              "      <td>1051</td>\n",
              "      <td>پیک مودب وساندویچ خوش طعم بود سپاس ازبودنتون</td>\n",
              "      <td>42</td>\n",
              "      <td>2024</td>\n",
              "      <td>4.0</td>\n",
              "      <td>پیک مودب وساندویچ طعم سپاس ازبودنتون</td>\n",
              "      <td>1</td>\n",
              "      <td>1</td>\n",
              "      <td>0</td>\n",
              "      <td>0</td>\n",
              "      <td>0</td>\n",
              "      <td>0</td>\n",
              "    </tr>\n",
              "    <tr>\n",
              "      <th>1</th>\n",
              "      <td>2024-10-14 10:49:25</td>\n",
              "      <td>2</td>\n",
              "      <td>095gkq</td>\n",
              "      <td>1051</td>\n",
              "      <td>کوچکترین پیاز، خیار، لبو و گنده ترین سیب زمینی...</td>\n",
              "      <td>42</td>\n",
              "      <td>2024</td>\n",
              "      <td>4.0</td>\n",
              "      <td>کوچکترین پیاز خیار لبو گنده سیب زمینی هندوانه ...</td>\n",
              "      <td>0</td>\n",
              "      <td>0</td>\n",
              "      <td>0</td>\n",
              "      <td>0</td>\n",
              "      <td>0</td>\n",
              "      <td>0</td>\n",
              "    </tr>\n",
              "    <tr>\n",
              "      <th>2</th>\n",
              "      <td>2024-10-08 11:38:58</td>\n",
              "      <td>2</td>\n",
              "      <td>095gkq</td>\n",
              "      <td>1051</td>\n",
              "      <td>هندوانه کاملا خراب بود و دور ریخته شد. بجای دو...</td>\n",
              "      <td>41</td>\n",
              "      <td>2024</td>\n",
              "      <td>4.0</td>\n",
              "      <td>هندوانه خراب ریخت#ریز کیلو اسفناچ فرستاد#فرست</td>\n",
              "      <td>0</td>\n",
              "      <td>0</td>\n",
              "      <td>0</td>\n",
              "      <td>0</td>\n",
              "      <td>0</td>\n",
              "      <td>0</td>\n",
              "    </tr>\n",
              "    <tr>\n",
              "      <th>3</th>\n",
              "      <td>2024-10-01 20:03:59</td>\n",
              "      <td>2</td>\n",
              "      <td>095gkq</td>\n",
              "      <td>1051</td>\n",
              "      <td>هندوانه گندیده و دور ریخته شد شلیل ها تمام له ...</td>\n",
              "      <td>40</td>\n",
              "      <td>2024</td>\n",
              "      <td>4.0</td>\n",
              "      <td>هندوانه گندیده ریخت#ریز شلیل</td>\n",
              "      <td>0</td>\n",
              "      <td>0</td>\n",
              "      <td>0</td>\n",
              "      <td>0</td>\n",
              "      <td>0</td>\n",
              "      <td>0</td>\n",
              "    </tr>\n",
              "    <tr>\n",
              "      <th>4</th>\n",
              "      <td>2024-08-04 11:55:19</td>\n",
              "      <td>10</td>\n",
              "      <td>095gkq</td>\n",
              "      <td>1051</td>\n",
              "      <td>همه چی عالی</td>\n",
              "      <td>31</td>\n",
              "      <td>2024</td>\n",
              "      <td>4.0</td>\n",
              "      <td></td>\n",
              "      <td>0</td>\n",
              "      <td>0</td>\n",
              "      <td>0</td>\n",
              "      <td>0</td>\n",
              "      <td>0</td>\n",
              "      <td>0</td>\n",
              "    </tr>\n",
              "    <tr>\n",
              "      <th>...</th>\n",
              "      <td>...</td>\n",
              "      <td>...</td>\n",
              "      <td>...</td>\n",
              "      <td>...</td>\n",
              "      <td>...</td>\n",
              "      <td>...</td>\n",
              "      <td>...</td>\n",
              "      <td>...</td>\n",
              "      <td>...</td>\n",
              "      <td>...</td>\n",
              "      <td>...</td>\n",
              "      <td>...</td>\n",
              "      <td>...</td>\n",
              "      <td>...</td>\n",
              "      <td>...</td>\n",
              "    </tr>\n",
              "    <tr>\n",
              "      <th>1290543</th>\n",
              "      <td>2024-12-09 20:03:55</td>\n",
              "      <td>10</td>\n",
              "      <td>zn8ewj</td>\n",
              "      <td>33</td>\n",
              "      <td>سلام من اولین باره خرید می‌کنم هنوز نمی‌تونم ن...</td>\n",
              "      <td>50</td>\n",
              "      <td>2024</td>\n",
              "      <td>&lt;NA&gt;</td>\n",
              "      <td>سلام خرید تون نظری عسل نظرمو عسل پوکید#پوک است...</td>\n",
              "      <td>0</td>\n",
              "      <td>0</td>\n",
              "      <td>0</td>\n",
              "      <td>0</td>\n",
              "      <td>0</td>\n",
              "      <td>0</td>\n",
              "    </tr>\n",
              "    <tr>\n",
              "      <th>1290544</th>\n",
              "      <td>2024-12-09 15:35:37</td>\n",
              "      <td>10</td>\n",
              "      <td>zn8ewj</td>\n",
              "      <td>33</td>\n",
              "      <td>کیفیت خوب و مرغوب</td>\n",
              "      <td>50</td>\n",
              "      <td>2024</td>\n",
              "      <td>&lt;NA&gt;</td>\n",
              "      <td>کیفیت مرغوب</td>\n",
              "      <td>1</td>\n",
              "      <td>0</td>\n",
              "      <td>0</td>\n",
              "      <td>0</td>\n",
              "      <td>0</td>\n",
              "      <td>0</td>\n",
              "    </tr>\n",
              "    <tr>\n",
              "      <th>1290545</th>\n",
              "      <td>2024-10-23 12:56:57</td>\n",
              "      <td>10</td>\n",
              "      <td>zn8ewj</td>\n",
              "      <td>33</td>\n",
              "      <td>عالی</td>\n",
              "      <td>43</td>\n",
              "      <td>2024</td>\n",
              "      <td>&lt;NA&gt;</td>\n",
              "      <td></td>\n",
              "      <td>0</td>\n",
              "      <td>0</td>\n",
              "      <td>0</td>\n",
              "      <td>0</td>\n",
              "      <td>0</td>\n",
              "      <td>0</td>\n",
              "    </tr>\n",
              "    <tr>\n",
              "      <th>1290546</th>\n",
              "      <td>2024-10-20 16:41:07</td>\n",
              "      <td>10</td>\n",
              "      <td>zn8ewj</td>\n",
              "      <td>33</td>\n",
              "      <td>بسیار عالی</td>\n",
              "      <td>42</td>\n",
              "      <td>2024</td>\n",
              "      <td>&lt;NA&gt;</td>\n",
              "      <td></td>\n",
              "      <td>0</td>\n",
              "      <td>0</td>\n",
              "      <td>0</td>\n",
              "      <td>0</td>\n",
              "      <td>0</td>\n",
              "      <td>0</td>\n",
              "    </tr>\n",
              "    <tr>\n",
              "      <th>1290547</th>\n",
              "      <td>2024-10-13 14:55:30</td>\n",
              "      <td>10</td>\n",
              "      <td>zn8ewj</td>\n",
              "      <td>33</td>\n",
              "      <td>ممنون از ارسال و توضیحاتتون،موفق باشید.</td>\n",
              "      <td>41</td>\n",
              "      <td>2024</td>\n",
              "      <td>&lt;NA&gt;</td>\n",
              "      <td>ممنون ارسال توضیحاتتون موفق</td>\n",
              "      <td>0</td>\n",
              "      <td>1</td>\n",
              "      <td>0</td>\n",
              "      <td>0</td>\n",
              "      <td>0</td>\n",
              "      <td>0</td>\n",
              "    </tr>\n",
              "  </tbody>\n",
              "</table>\n",
              "<p>1078372 rows × 15 columns</p>\n",
              "</div>"
            ]
          },
          "metadata": {},
          "execution_count": 39
        }
      ]
    }
  ]
}