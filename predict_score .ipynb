{
  "cells": [
    {
      "cell_type": "code",
      "execution_count": null,
      "metadata": {
        "id": "gQEtz7gI0iPe"
      },
      "outputs": [],
      "source": [
        "!mkdir ~/.kaggle\n",
        "!cp kaggle.json ~/.kaggle/\n",
        "!chmod 600 ~/.kaggle/kaggle.json\n",
        "\n",
        "!kaggle datasets download -d moeinkpr/snappfood-comments\n",
        "\n",
        "!unzip snappfood-comments.zip\n",
        "\n",
        "!git clone https://github.com/rapidsai/rapidsai-csp-utils.git\n",
        "!python rapidsai-csp-utils/colab/pip-install.py"
      ]
    },
    {
      "cell_type": "code",
      "execution_count": null,
      "metadata": {
        "colab": {
          "base_uri": "https://localhost:8080/"
        },
        "id": "0Z9UHhRV0wG6",
        "outputId": "a8adedb0-e414-4140-ae4d-2425db54d0f0"
      },
      "outputs": [
        {
          "name": "stdout",
          "output_type": "stream",
          "text": [
            "<class 'cudf.core.dataframe.DataFrame'>\n",
            "Index: 1078372 entries, 0 to 1290548\n",
            "Data columns (total 8 columns):\n",
            " #   Column                  Non-Null Count    Dtype\n",
            "---  ------                  --------------    -----\n",
            " 0   createdDate             1078372 non-null  datetime64[ns]\n",
            " 1   rate                    1078372 non-null  uint8\n",
            " 2   code                    1078372 non-null  object\n",
            " 3   commentCount            1078372 non-null  object\n",
            " 4   text_raw                1078372 non-null  object\n",
            " 5   week                    1078372 non-null  uint8\n",
            " 6   year                    1078372 non-null  uint16\n",
            " 7   expeditionType_encoded  1078084 non-null  uint8\n",
            "dtypes: datetime64[ns](1), object(3), uint16(1), uint8(3)\n",
            "memory usage: 151.6+ MB\n"
          ]
        }
      ],
      "source": [
        "import cudf\n",
        "from cuml.preprocessing import LabelEncoder\n",
        "import numpy as np\n",
        "import pandas as pd\n",
        "comments_table = cudf.read_csv(\"comments.csv\")\n",
        "vendors_table = cudf.read_csv(\"vendors.csv\")\n",
        "\n",
        "comments_table = comments_table.drop(columns=[\"commentId\",\"date\",\"sender\",\"rating\",\"customerId\",\"feeling\",\"status\",\"foods\",\"replies\"], errors=\"ignore\")\n",
        "vendors_table = vendors_table.drop(columns=[\"id\",\"highlight\",\"description\",\"address\",\"rating\",\"title\"], errors=\"ignore\")\n",
        "\n",
        "merged_df = comments_table.merge(vendors_table, on=\"code\", how=\"left\")\n",
        "\n",
        "merged_df = merged_df[merged_df[\"vendorType\"] == \"RESTAURANT\"]\n",
        "merged_df = merged_df.drop(columns=[\"vendorType\"])\n",
        "\n",
        "merged_df[\"deliveryComment\"] = merged_df[\"deliveryComment\"].fillna(\"\")\n",
        "merged_df[\"commentText\"] = merged_df[\"commentText\"].fillna(\"\")\n",
        "\n",
        "merged_df[\"text_raw\"] = merged_df[\"commentText\"] + \" \" + merged_df[\"deliveryComment\"]\n",
        "merged_df = merged_df.drop(columns=[\"commentText\", \"deliveryComment\"])\n",
        "\n",
        "merged_df[\"createdDate\"] = cudf.to_datetime(merged_df[\"createdDate\"])\n",
        "merged_df[\"week\"] = merged_df[\"createdDate\"].dt.isocalendar().week.astype(\"int32\")\n",
        "merged_df[\"year\"] = merged_df[\"createdDate\"].dt.year.astype(\"int32\")\n",
        "\n",
        "le = LabelEncoder()\n",
        "merged_df[\"expeditionType_encoded\"] = le.fit_transform(merged_df[\"expeditionType\"].astype(\"str\"))\n",
        "merged_df = merged_df.drop(columns=[\"expeditionType\"])\n",
        "\n",
        "merged_df = merged_df.dropna(subset=[\"rate\"])\n",
        "\n",
        "merged_df[\"rate\"] = merged_df[\"rate\"].astype(\"uint8\")\n",
        "\n",
        "\n",
        "def auto_data_type(df):\n",
        "    for col in df.select_dtypes(include=[np.number]).columns:\n",
        "        min_value = df[col].min()\n",
        "        max_value = df[col].max()\n",
        "\n",
        "        if pd.api.types.is_float_dtype(df[col]):\n",
        "            df[col] = df[col].astype(np.float32)\n",
        "        elif min_value >= 0:\n",
        "            if max_value <= 255:\n",
        "                df[col] = df[col].astype(np.uint8)\n",
        "            elif max_value <= 65535:\n",
        "                df[col] = df[col].astype(np.uint16)\n",
        "            elif max_value <= 4294967295:\n",
        "                df[col] = df[col].astype(np.uint32)\n",
        "            else:\n",
        "                df[col] = df[col].astype(np.uint64)\n",
        "        else:\n",
        "            if -128 <= min_value and max_value <= 127:\n",
        "                df[col] = df[col].astype(np.int8)\n",
        "            elif -32768 <= min_value and max_value <= 32767:\n",
        "                df[col] = df[col].astype(np.int16)\n",
        "            elif -2147483648 <= min_value and max_value <= 2147483647:\n",
        "                df[col] = df[col].astype(np.int32)\n",
        "            else:\n",
        "                df[col] = df[col].astype(np.int64)\n",
        "    return df\n",
        "\n",
        "\n",
        "merged_df=auto_data_type(merged_df)\n",
        "\n",
        "merged_df.info()"
      ]
    },
    {
      "cell_type": "code",
      "execution_count": null,
      "metadata": {
        "id": "hor_fU-Z0qEn"
      },
      "outputs": [],
      "source": [
        "import cudf\n",
        "import numpy as np\n",
        "import pandas as pd\n",
        "from xgboost import XGBRegressor\n",
        "from sklearn.metrics import mean_absolute_error, r2_score\n",
        "from tqdm import tqdm\n",
        "\n",
        "\n",
        "def build_weekly_data(merged_df):\n",
        "   \n",
        "      merged_df = merged_df.to_pandas()\n",
        "\n",
        "\n",
        "    g = merged_df.groupby([\"code\", \"year\", \"week\"])\n",
        "    weekly = g.agg(mean_rate=(\"rate\", \"mean\"), ).reset_index()\n",
        "\n",
        "    weekly = weekly.sort_values([\"code\", \"year\", \"week\"])\n",
        "\n",
        "\n",
        "    for lag in [1, 2, 3, 4]:\n",
        "        weekly[f\"rate_lag{lag}\"] = weekly.groupby(\"code\")[\"mean_rate\"].shift(lag)\n",
        "\n",
        "\n",
        "    weekly[\"delta_rate\"] = weekly[\"mean_rate\"] - weekly[\"rate_lag1\"]\n",
        "    weekly[\"delta2_rate\"] = weekly[\"rate_lag1\"] - weekly[\"rate_lag2\"]\n",
        "    weekly[\"acceleration_rate\"] = weekly[\"delta_rate\"] - weekly[\"delta2_rate\"]\n",
        "\n",
        "    weekly[\"rolling_mean_2w\"] = (weekly.groupby(\"code\")[\"mean_rate\"].transform(lambda x: x.rolling(2, min_periods=1).mean()))\n",
        "\n",
        "    weekly[\"rolling_mean_3w\"] = (weekly.groupby(\"code\")[\"mean_rate\"].transform(lambda x: x.rolling(3, min_periods=1).mean()))\n",
        "\n",
        "    weekly[\"rolling_mean_4w\"] = (weekly.groupby(\"code\")[\"mean_rate\"].transform(lambda x: x.rolling(4, min_periods=1).mean()))\n",
        "\n",
        "    weekly[\"y_next\"] = weekly.groupby(\"code\")[\"mean_rate\"].shift(-1)\n",
        "\n",
        "    weekly = weekly.dropna().reset_index(drop=True)\n",
        "\n",
        "    return weekly\n"
      ]
    },
    {
      "cell_type": "code",
      "execution_count": null,
      "metadata": {
        "id": "Rbe5tFa31Lv3"
      },
      "outputs": [],
      "source": [
        "def train_forecast_model(weekly):\n",
        "\n",
        "        weekly = weekly.to_pandas()\n",
        "\n",
        "    features = [c for c in weekly.columns if c not in [\"code\", \"year\", \"week\", \"y_next\"]]\n",
        "    X = weekly[features]\n",
        "    y = weekly[\"y_next\"]\n",
        "\n",
        "    X_train, y_train = X, y\n",
        "    X_test, y_test = X, y\n",
        "\n",
        "\n",
        "    model = XGBRegressor(\n",
        "        n_estimators=2000,\n",
        "        max_depth=7,\n",
        "        learning_rate=0.01,\n",
        "        subsample=0.8,\n",
        "       device=\"cuda\",\n",
        "        random_state=42,\n",
        "    )\n",
        "\n",
        "    model.fit(X_train, y_train)\n",
        "    preds = model.predict(X_test)\n",
        "\n",
        "    mae = mean_absolute_error(y_test, preds)\n",
        "    r2 = r2_score(y_test, preds)\n",
        "    return model, features\n",
        "\n",
        "\n"
      ]
    }
  ],
  "metadata": {
    "accelerator": "GPU",
    "colab": {
      "gpuType": "T4",
      "provenance": []
    },
    "kernelspec": {
      "display_name": "Python 3",
      "name": "python3"
    },
    "language_info": {
      "name": "python"
    }
  },
  "nbformat": 4,
  "nbformat_minor": 0
}
