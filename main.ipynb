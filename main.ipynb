{
  "nbformat": 4,
  "nbformat_minor": 0,
  "metadata": {
    "colab": {
      "provenance": [],
      "gpuType": "T4",
      "authorship_tag": "ABX9TyPYUXUQyqDlssZoYu32OYn+"
    },
    "kernelspec": {
      "name": "python3",
      "display_name": "Python 3"
    },
    "language_info": {
      "name": "python"
    },
    "accelerator": "GPU"
  },
  "cells": [
    {
      "cell_type": "code",
      "execution_count": 1,
      "metadata": {
        "id": "Dt1qhEnTmg42"
      },
      "outputs": [],
      "source": [
        "!mkdir ~/.kaggle\n",
        "!cp kaggle.json ~/.kaggle/\n",
        "!chmod 600 ~/.kaggle/kaggle.json"
      ]
    },
    {
      "cell_type": "code",
      "source": [
        "!kaggle datasets download -d moeinkpr/snappfood-comments"
      ],
      "metadata": {
        "colab": {
          "base_uri": "https://localhost:8080/"
        },
        "id": "YI8oxd92m3Vp",
        "outputId": "6ec4eb8c-bfbf-4126-ceed-d600e95011d2"
      },
      "execution_count": 2,
      "outputs": [
        {
          "output_type": "stream",
          "name": "stdout",
          "text": [
            "Dataset URL: https://www.kaggle.com/datasets/moeinkpr/snappfood-comments\n",
            "License(s): MIT\n",
            "Downloading snappfood-comments.zip to /content\n",
            "  0% 0.00/98.1M [00:00<?, ?B/s]\n",
            "100% 98.1M/98.1M [00:00<00:00, 1.32GB/s]\n"
          ]
        }
      ]
    },
    {
      "cell_type": "code",
      "source": [
        "!unzip snappfood-comments.zip"
      ],
      "metadata": {
        "colab": {
          "base_uri": "https://localhost:8080/"
        },
        "id": "xB4KsILSm8Jq",
        "outputId": "646df7fc-6138-4a5f-8b38-841053e1342e"
      },
      "execution_count": 3,
      "outputs": [
        {
          "output_type": "stream",
          "name": "stdout",
          "text": [
            "Archive:  snappfood-comments.zip\n",
            "  inflating: comments.csv            \n",
            "  inflating: vendors.csv             \n"
          ]
        }
      ]
    },
    {
      "cell_type": "code",
      "source": [
        "!git clone https://github.com/rapidsai/rapidsai-csp-utils.git\n",
        "!python rapidsai-csp-utils/colab/pip-install.py"
      ],
      "metadata": {
        "colab": {
          "base_uri": "https://localhost:8080/"
        },
        "id": "ctZ1dB4enGVb",
        "outputId": "8781c7f2-4c91-4328-ec95-e8839ab5f691"
      },
      "execution_count": 4,
      "outputs": [
        {
          "output_type": "stream",
          "name": "stdout",
          "text": [
            "Cloning into 'rapidsai-csp-utils'...\n",
            "remote: Enumerating objects: 603, done.\u001b[K\n",
            "remote: Counting objects: 100% (169/169), done.\u001b[K\n",
            "remote: Compressing objects: 100% (87/87), done.\u001b[K\n",
            "remote: Total 603 (delta 131), reused 82 (delta 82), pack-reused 434 (from 3)\u001b[K\n",
            "Receiving objects: 100% (603/603), 199.38 KiB | 1.53 MiB/s, done.\n",
            "Resolving deltas: 100% (305/305), done.\n",
            "Installing RAPIDS remaining 25.08 libraries\n",
            "Using Python 3.12.11 environment at: /usr\n",
            "Resolved 180 packages in 1.94s\n",
            "Prepared 41 packages in 48.38s\n",
            "Uninstalled 31 packages in 1.31s\n",
            "Installed 41 packages in 375ms\n",
            " - bokeh==3.7.3\n",
            " + bokeh==3.6.3\n",
            " + cucim-cu12==25.8.0\n",
            " + cuda-bindings==12.9.2\n",
            " + cuda-pathfinder==1.3.0\n",
            " - cuda-python==12.6.2.post1\n",
            " + cuda-python==12.9.2\n",
            " - cudf-cu12==25.6.0 (from https://pypi.nvidia.com/cudf-cu12/cudf_cu12-25.6.0-cp312-cp312-manylinux_2_24_x86_64.manylinux_2_28_x86_64.whl)\n",
            " + cudf-cu12==25.8.0\n",
            " + cugraph-cu12==25.8.0\n",
            " - cuml-cu12==25.6.0\n",
            " + cuml-cu12==25.8.0\n",
            " - cuvs-cu12==25.6.1\n",
            " + cuvs-cu12==25.8.0\n",
            " + cuxfilter-cu12==25.8.0\n",
            " - dask==2025.5.0\n",
            " + dask==2025.7.0\n",
            " - dask-cuda==25.6.0\n",
            " + dask-cuda==25.8.0\n",
            " - dask-cudf-cu12==25.6.0\n",
            " + dask-cudf-cu12==25.8.0\n",
            " + datashader==0.18.2\n",
            " - distributed==2025.5.0\n",
            " + distributed==2025.7.0\n",
            " - distributed-ucxx-cu12==0.44.0\n",
            " + distributed-ucxx-cu12==0.45.1\n",
            " - holoviews==1.21.0\n",
            " + holoviews==1.20.2\n",
            " + jupyter-server-proxy==4.4.0\n",
            " - libcudf-cu12==25.6.0 (from https://pypi.nvidia.com/libcudf-cu12/libcudf_cu12-25.6.0-py3-none-manylinux_2_28_x86_64.whl)\n",
            " + libcudf-cu12==25.8.0\n",
            " - libcugraph-cu12==25.6.0\n",
            " + libcugraph-cu12==25.8.0\n",
            " - libcuml-cu12==25.6.0\n",
            " + libcuml-cu12==25.8.0\n",
            " - libcuvs-cu12==25.6.1\n",
            " + libcuvs-cu12==25.8.0\n",
            " - libkvikio-cu12==25.6.0\n",
            " + libkvikio-cu12==25.8.0\n",
            " - libraft-cu12==25.6.0\n",
            " + libraft-cu12==25.8.0\n",
            " - librmm-cu12==25.6.0\n",
            " + librmm-cu12==25.8.0\n",
            " - libucxx-cu12==0.44.0\n",
            " + libucxx-cu12==0.45.1\n",
            " - numba-cuda==0.11.0\n",
            " + numba-cuda==0.14.1\n",
            " + nvidia-cuda-cccl-cu12==12.9.27\n",
            " - nx-cugraph-cu12==25.6.0 (from https://pypi.nvidia.com/nx-cugraph-cu12/nx_cugraph_cu12-25.6.0-py3-none-any.whl)\n",
            " + nx-cugraph-cu12==25.8.0\n",
            " - panel==1.8.1\n",
            " + panel==1.7.5\n",
            " + pyct==0.6.0\n",
            " - pylibcudf-cu12==25.6.0 (from https://pypi.nvidia.com/pylibcudf-cu12/pylibcudf_cu12-25.6.0-cp312-cp312-manylinux_2_24_x86_64.manylinux_2_28_x86_64.whl)\n",
            " + pylibcudf-cu12==25.8.0\n",
            " - pylibcugraph-cu12==25.6.0\n",
            " + pylibcugraph-cu12==25.8.0\n",
            " - pylibraft-cu12==25.6.0\n",
            " + pylibraft-cu12==25.8.0\n",
            " - raft-dask-cu12==25.6.0\n",
            " + raft-dask-cu12==25.8.0\n",
            " - rapids-dask-dependency==25.6.0\n",
            " + rapids-dask-dependency==25.8.0\n",
            " - rmm-cu12==25.6.0\n",
            " + rmm-cu12==25.8.0\n",
            " - shapely==2.1.2\n",
            " + shapely==2.0.7\n",
            " + simpervisor==1.0.0\n",
            " - ucx-py-cu12==0.44.0\n",
            " + ucx-py-cu12==0.45.0\n",
            " - ucxx-cu12==0.44.0\n",
            " + ucxx-cu12==0.45.1\n",
            "\n",
            "        ***********************************************************************\n",
            "        The pip install of RAPIDS is complete.\n",
            "\n",
            "        Please do not run any further installation from the conda based installation methods, as they may cause issues!\n",
            "\n",
            "        Please ensure that you're pulling from the git repo to remain updated with the latest working install scripts.\n",
            "\n",
            "        Troubleshooting:\n",
            "            - If there is an installation failure, please check back on RAPIDSAI owned templates/notebooks to see how to update your personal files.\n",
            "            - If an installation failure persists when using the latest script, please make an issue on https://github.com/rapidsai-community/rapidsai-csp-utils\n",
            "        ***********************************************************************\n",
            "        \n"
          ]
        }
      ]
    },
    {
      "cell_type": "code",
      "source": [
        "import cudf"
      ],
      "metadata": {
        "id": "PWFbYFY0EYZ5"
      },
      "execution_count": 5,
      "outputs": []
    },
    {
      "cell_type": "code",
      "source": [
        "comments_table=cudf.read_csv(\"comments.csv\")\n",
        "vendors_table=cudf.read_csv(\"vendors.csv\")\n",
        "\n",
        "comments_table_copy=comments_table.drop(columns=[\"commentId\",\"date\",\"sender\",\"rating\",\"customerId\",\"feeling\",\"status\",\"foods\",\"replies\"])\n",
        "comments_table_copy\n",
        "vendors_table_copy=vendors_table.drop(columns=[\"id\",\"highlight\",\"description\",\"address\",\"rating\",\"title\"])\n",
        "vendors_table_copy"
      ],
      "metadata": {
        "colab": {
          "base_uri": "https://localhost:8080/",
          "height": 423
        },
        "id": "q9ZJ5qIHEc0S",
        "outputId": "58afa3a1-4ace-4e9d-991b-4cb83a4b5112"
      },
      "execution_count": 6,
      "outputs": [
        {
          "output_type": "execute_result",
          "data": {
            "text/plain": [
              "        code commentCount  vendorType\n",
              "0     pzlkj3        24112  RESTAURANT\n",
              "1     0lvonp        10988  RESTAURANT\n",
              "2     3drlyx         5815  RESTAURANT\n",
              "3     klw59g           12  RESTAURANT\n",
              "4     32m1rl        13542  RESTAURANT\n",
              "...      ...          ...         ...\n",
              "2250  3x25xw         7391  RESTAURANT\n",
              "2251  0rel4o           46  RESTAURANT\n",
              "2252  0y16yg        22278  RESTAURANT\n",
              "2253  znv94e           66  RESTAURANT\n",
              "2254  kl7vlg          112  RESTAURANT\n",
              "\n",
              "[2255 rows x 3 columns]"
            ],
            "text/html": [
              "<div>\n",
              "<style scoped>\n",
              "    .dataframe tbody tr th:only-of-type {\n",
              "        vertical-align: middle;\n",
              "    }\n",
              "\n",
              "    .dataframe tbody tr th {\n",
              "        vertical-align: top;\n",
              "    }\n",
              "\n",
              "    .dataframe thead th {\n",
              "        text-align: right;\n",
              "    }\n",
              "</style>\n",
              "<table border=\"1\" class=\"dataframe\">\n",
              "  <thead>\n",
              "    <tr style=\"text-align: right;\">\n",
              "      <th></th>\n",
              "      <th>code</th>\n",
              "      <th>commentCount</th>\n",
              "      <th>vendorType</th>\n",
              "    </tr>\n",
              "  </thead>\n",
              "  <tbody>\n",
              "    <tr>\n",
              "      <th>0</th>\n",
              "      <td>pzlkj3</td>\n",
              "      <td>24112</td>\n",
              "      <td>RESTAURANT</td>\n",
              "    </tr>\n",
              "    <tr>\n",
              "      <th>1</th>\n",
              "      <td>0lvonp</td>\n",
              "      <td>10988</td>\n",
              "      <td>RESTAURANT</td>\n",
              "    </tr>\n",
              "    <tr>\n",
              "      <th>2</th>\n",
              "      <td>3drlyx</td>\n",
              "      <td>5815</td>\n",
              "      <td>RESTAURANT</td>\n",
              "    </tr>\n",
              "    <tr>\n",
              "      <th>3</th>\n",
              "      <td>klw59g</td>\n",
              "      <td>12</td>\n",
              "      <td>RESTAURANT</td>\n",
              "    </tr>\n",
              "    <tr>\n",
              "      <th>4</th>\n",
              "      <td>32m1rl</td>\n",
              "      <td>13542</td>\n",
              "      <td>RESTAURANT</td>\n",
              "    </tr>\n",
              "    <tr>\n",
              "      <th>...</th>\n",
              "      <td>...</td>\n",
              "      <td>...</td>\n",
              "      <td>...</td>\n",
              "    </tr>\n",
              "    <tr>\n",
              "      <th>2250</th>\n",
              "      <td>3x25xw</td>\n",
              "      <td>7391</td>\n",
              "      <td>RESTAURANT</td>\n",
              "    </tr>\n",
              "    <tr>\n",
              "      <th>2251</th>\n",
              "      <td>0rel4o</td>\n",
              "      <td>46</td>\n",
              "      <td>RESTAURANT</td>\n",
              "    </tr>\n",
              "    <tr>\n",
              "      <th>2252</th>\n",
              "      <td>0y16yg</td>\n",
              "      <td>22278</td>\n",
              "      <td>RESTAURANT</td>\n",
              "    </tr>\n",
              "    <tr>\n",
              "      <th>2253</th>\n",
              "      <td>znv94e</td>\n",
              "      <td>66</td>\n",
              "      <td>RESTAURANT</td>\n",
              "    </tr>\n",
              "    <tr>\n",
              "      <th>2254</th>\n",
              "      <td>kl7vlg</td>\n",
              "      <td>112</td>\n",
              "      <td>RESTAURANT</td>\n",
              "    </tr>\n",
              "  </tbody>\n",
              "</table>\n",
              "<p>2255 rows × 3 columns</p>\n",
              "</div>"
            ]
          },
          "metadata": {},
          "execution_count": 6
        }
      ]
    },
    {
      "cell_type": "code",
      "source": [
        "merged_df = comments_table_copy.merge(vendors_table_copy,on=\"code\",how=\"left\")\n",
        "merged_df = merged_df[merged_df[\"vendorType\"] == \"RESTAURANT\"]\n",
        "\n",
        "merged_df=merged_df.drop(columns=[\"vendorType\"])\n",
        "merged_df[\"deliveryComment\"].fillna(\"\",inplace=True)\n"
      ],
      "metadata": {
        "id": "EdQCCiHPMLN4"
      },
      "execution_count": 19,
      "outputs": []
    },
    {
      "cell_type": "code",
      "source": [
        "merged_df['text_raw'] = (merged_df['commentText'].fillna('') + ' ' + merged_df['deliveryComment'].fillna(''))\n",
        "merged_df = merged_df.drop(columns=['commentText', 'deliveryComment'])\n"
      ],
      "metadata": {
        "id": "ubk-3cB5ZKC7"
      },
      "execution_count": 20,
      "outputs": []
    }
  ]
}